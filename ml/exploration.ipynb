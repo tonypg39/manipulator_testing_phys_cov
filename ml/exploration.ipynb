{
 "cells": [
  {
   "cell_type": "code",
   "execution_count": 1,
   "id": "d85b8b76",
   "metadata": {},
   "outputs": [],
   "source": [
    "import os\n",
    "import numpy as np\n",
    "import json\n",
    "import matplotlib.pyplot as plt\n",
    "import math\n",
    "\n",
    "#FIXCONFIG: Add the path to a config file\n",
    "# global_path = \"/root/UR5-Pick-and-Place-Simulation/ml\"\n",
    "global_path = \".\"\n",
    "data_path = global_path + \"/dev/eval_data/\"\n",
    "\n",
    "def read_json_file(file_path):\n",
    "    with open(file_path, 'r') as file:\n",
    "        data = json.load(file)\n",
    "    return data"
   ]
  },
  {
   "cell_type": "code",
   "execution_count": 2,
   "id": "e1168b6e",
   "metadata": {},
   "outputs": [],
   "source": [
    "def get_records(test_name):\n",
    "    te_data = []\n",
    "    path = data_path+test_name\n",
    "    lf = os.listdir(path)\n",
    "    records = []\n",
    "    for f in lf:\n",
    "        d = read_json_file(path + \"/\" + f)\n",
    "        records.append(d)\n",
    "    return records"
   ]
  },
  {
   "cell_type": "code",
   "execution_count": 3,
   "id": "6bb93c8e",
   "metadata": {},
   "outputs": [],
   "source": [
    "#Methods for exploration\n",
    "def get_ranges(records):\n",
    "    \n",
    "    x_r, y_r, z_r, v_r = [inf,-inf],[inf,-inf],[inf,-inf],[inf,-inf]\n",
    "    for r in records:\n",
    "        d = np.array(r['data'])\n",
    "        x_r = [min(x_r[0], np.min(d[:,0])),max(x_r[1], np.max(d[:,0]))]\n",
    "        y_r = [min(y_r[0], np.min(d[:,1])),max(y_r[1], np.max(d[:,1]))]        \n",
    "        z_r = [min(z_r[0], np.min(d[:,2])),max(z_r[1], np.max(d[:,2]))]        \n",
    "        v_r = [min(v_r[0], np.min(d[:,3])),max(v_r[1], np.max(d[:,3]))]   \n",
    "    return {\n",
    "        'x': x_r,\n",
    "        'y': y_r,\n",
    "        'z': z_r,\n",
    "        'v': v_r\n",
    "    }"
   ]
  },
  {
   "cell_type": "code",
   "execution_count": 4,
   "id": "d6af5be4",
   "metadata": {},
   "outputs": [],
   "source": [
    "rec_tD = get_records(\"t_D\")\n",
    "rec_tEV = get_records(\"t_EV\")\n",
    "rec_tDEV = get_records(\"t_DEV\")"
   ]
  },
  {
   "cell_type": "code",
   "execution_count": 5,
   "id": "2d17547b",
   "metadata": {},
   "outputs": [],
   "source": [
    "tR = get_records(\"t_R\")"
   ]
  },
  {
   "cell_type": "code",
   "execution_count": null,
   "id": "730387ab",
   "metadata": {},
   "outputs": [],
   "source": []
  },
  {
   "cell_type": "code",
   "execution_count": null,
   "id": "72a19dcc",
   "metadata": {},
   "outputs": [],
   "source": []
  },
  {
   "cell_type": "code",
   "execution_count": null,
   "id": "5b455a18",
   "metadata": {},
   "outputs": [],
   "source": []
  },
  {
   "cell_type": "code",
   "execution_count": 16,
   "id": "e0e3bcf2",
   "metadata": {},
   "outputs": [
    {
     "data": {
      "text/plain": [
       "{'x': [-0.5989385349841833, 0.6767176047857195],\n",
       " 'y': [0.18342754580490503, 0.7184191870983871],\n",
       " 'z': [0.11782123353679215, 0.5318305577613782],\n",
       " 'v': [0.0, 1.7523761490807963]}"
      ]
     },
     "execution_count": 16,
     "metadata": {},
     "output_type": "execute_result"
    }
   ],
   "source": [
    "get_ranges(rec_tR)"
   ]
  },
  {
   "cell_type": "code",
   "execution_count": 10,
   "id": "40b08e8d",
   "metadata": {},
   "outputs": [],
   "source": [
    "# Parameters\n",
    "inf = 1e8\n",
    "W,L,H = 10,21,3\n",
    "x_range = [-0.75, 0.83]\n",
    "y_range = [0.02, 0.86]\n",
    "z_range = [0.10, 0.55]\n",
    "v_range = [0.0, 2.0]"
   ]
  },
  {
   "cell_type": "code",
   "execution_count": 13,
   "id": "37a7f76c",
   "metadata": {},
   "outputs": [],
   "source": [
    "def is_outlier(rec):\n",
    "    xin =  x_range[0] <= rec[0] <= x_range[1] \n",
    "    yin =  y_range[0] <= rec[1] <= y_range[1] \n",
    "    zin =  z_range[0] <= rec[2] <= z_range[1]\n",
    "    vin =  v_range[0] <= rec[3] <= v_range[1]\n",
    "    return not zin or not yin or not xin or not vin\n",
    "\n",
    "def get_outliers(records):\n",
    "    outs = []\n",
    "    cnt = 0\n",
    "    clean_records = []\n",
    "    for r in records:\n",
    "        clean = True\n",
    "        for item in r['data']:\n",
    "            if is_outlier(item):\n",
    "                clean = False\n",
    "                outs.append(item)\n",
    "            else:\n",
    "                cnt += 1\n",
    "        if clean:\n",
    "            clean_records.append(r)\n",
    "    print(f\"Clean # is {cnt} and # clean records {len(clean_records)}\")\n",
    "    return clean_records,outs\n",
    "\n",
    "\n",
    "# def clean_outliers(records):\n",
    "#     outs = []\n",
    "#     cnt = 0\n",
    "#     for r in records:\n",
    "#         for item in r['data']:\n",
    "#             if is_outlier(item):\n",
    "#                 outs.append(item)\n",
    "#             else:\n",
    "#                 cnt += 1\n",
    "#     return outs"
   ]
  },
  {
   "cell_type": "code",
   "execution_count": 14,
   "id": "26d247f8",
   "metadata": {},
   "outputs": [
    {
     "name": "stdout",
     "output_type": "stream",
     "text": [
      "Clean # is 50712 and # clean records 91\n"
     ]
    }
   ],
   "source": [
    "X = get_outliers(tR)"
   ]
  },
  {
   "cell_type": "code",
   "execution_count": 15,
   "id": "7381521f",
   "metadata": {},
   "outputs": [],
   "source": [
    "rec_tR = X[0]"
   ]
  },
  {
   "cell_type": "code",
   "execution_count": 17,
   "id": "7eb6a8ea",
   "metadata": {},
   "outputs": [],
   "source": [
    "# Methods for extraction\n",
    "def get_vel_index(record):\n",
    "    # returns vi form (0 to V-1)\n",
    "    thresholds = [0.67,1.33,inf] #FIXME: Compute the actual velocity ranges\n",
    "    v = record[3]\n",
    "    for i,t in enumerate(thresholds):\n",
    "        if v < t:\n",
    "            return i\n",
    "\n",
    "def get_pos_index(record):\n",
    "    global W,L,H\n",
    "    x,y,z = record[:3]\n",
    "    w_pct = (x-x_range[0])/(x_range[1] - x_range[0])\n",
    "    wi = math.floor(w_pct * W)\n",
    "    l_pct = (y-y_range[0])/(y_range[1] - y_range[0])\n",
    "    li = math.floor(l_pct * L)\n",
    "    h_pct = (z-z_range[0])/(z_range[1] - z_range[0])\n",
    "    hi = math.floor(h_pct * H)\n",
    "    return wi,li,hi\n",
    "    \n",
    "\n",
    "def get_time_elapsed(record):\n",
    "    return record['time_elapsed']\n"
   ]
  },
  {
   "cell_type": "code",
   "execution_count": 18,
   "id": "0529bc26",
   "metadata": {},
   "outputs": [],
   "source": [
    "def run_evol_matrix(records):\n",
    "    # Record evolution metrics and return the final matrix\n",
    "    M = np.zeros((W+2,L+2,H+2),dtype='int8')\n",
    "    num_covered_cells = []\n",
    "    te_data = []\n",
    "    cov_cells = 0\n",
    "    for record in records:\n",
    "        for r in record['data']:\n",
    "            v = get_vel_index(r)\n",
    "            pos = get_pos_index(r)\n",
    "#             print(f\"The record {r[:4]} got the cell {pos} | vel {v}\")\n",
    "#             print(f\"Vel {v} | Marking with {1<<v}\")\n",
    "            M[pos] |= 1<<(v)\n",
    "            # The velocities are stored in a binary signature: 100 => only the second highest (fastest) velocity range was covered\n",
    "            # Potential metric: how many cells have non zero velocity: sum(M>0)\n",
    "            cov_cells = np.sum(M>0)\n",
    "        num_covered_cells.append(cov_cells)\n",
    "        te_data.append(record['time_elapsed'])\n",
    "        # TODO: Add more Metrics to be plot\n",
    "\n",
    "    d = {\n",
    "        \"matrix\": M,\n",
    "        \"Covered Cells\": num_covered_cells,\n",
    "        \"Time Elapsed\": te_data\n",
    "    }\n",
    "    return d\n",
    "\n",
    "def generate_plots(D):\n",
    "    # plot time elapsed\n",
    "    te_data = D[\"Covered Cells\"]\n",
    "    print(D)\n",
    "    plt.scatter(range(len(te_data)), te_data)\n",
    "    # plt.xticks([2,4,6,8,10,12,14,16,18,20])\n",
    "#     plt.xlabel(\"Test Case #\")\n",
    "#     plt.ylabel(\"Time Elapsed (seconds)\")\n",
    "    plt.grid()\n",
    "    plt.show()"
   ]
  },
  {
   "cell_type": "code",
   "execution_count": 19,
   "id": "086992f8",
   "metadata": {},
   "outputs": [],
   "source": [
    "md = run_evol_matrix(rec_tD)\n",
    "mev = run_evol_matrix(rec_tEV)\n",
    "mdev = run_evol_matrix(rec_tDEV)\n",
    "mr = run_evol_matrix(rec_tR)"
   ]
  },
  {
   "cell_type": "code",
   "execution_count": 67,
   "id": "e185f281",
   "metadata": {},
   "outputs": [
    {
     "data": {
      "text/plain": [
       "95"
      ]
     },
     "execution_count": 67,
     "metadata": {},
     "output_type": "execute_result"
    }
   ],
   "source": [
    "len(mdev['Covered Cells'])"
   ]
  },
  {
   "cell_type": "code",
   "execution_count": 21,
   "id": "5c22e0aa",
   "metadata": {},
   "outputs": [
    {
     "data": {
      "image/png": "[encoded data removed]",
      "text/plain": [
       "<Figure size 432x288 with 1 Axes>"
      ]
     },
     "metadata": {
      "needs_background": "light"
     },
     "output_type": "display_data"
    }
   ],
   "source": [
    "th = 90\n",
    "X = np.arange(0, th, 1.0) \n",
    "\n",
    "# Assign variables to the y axis part of the curve \n",
    "cov_r = mr['Covered Cells'][:th]\n",
    "cov_d = md['Covered Cells'][:th]\n",
    "cov_ev = mev['Covered Cells'][:th]\n",
    "cov_dev = mdev['Covered Cells'][:th]\n",
    "\n",
    "# Plotting both the curves simultaneously \n",
    "plt.plot(X, cov_r, color='k', label='Random') \n",
    "plt.plot(X, cov_d, color='r', label='Distance') \n",
    "plt.plot(X, cov_ev, color='g', label='E+V') \n",
    "plt.plot(X, cov_dev, color='b', label='D+E+V') \n",
    "  \n",
    "# Naming the x-axis, y-axis and the whole graph \n",
    "plt.xlabel(\"Iteration #\") \n",
    "plt.ylabel(\"Painted cells\") \n",
    "plt.title(\"Number of painted cells\") \n",
    "  \n",
    "# Adding legend, which helps us recognize the curve according to it's color \n",
    "plt.legend() \n",
    "# plt.figsize(5)\n",
    "# To load the display window \n",
    "plt.show() "
   ]
  },
  {
   "cell_type": "code",
   "execution_count": null,
   "id": "3b662dfe",
   "metadata": {},
   "outputs": [],
   "source": []
  }
 ],
 "metadata": {
  "kernelspec": {
   "display_name": "Python 3 (ipykernel)",
   "language": "python",
   "name": "python3"
  },
  "language_info": {
   "codemirror_mode": {
    "name": "ipython",
    "version": 3
   },
   "file_extension": ".py",
   "mimetype": "text/x-python",
   "name": "python",
   "nbconvert_exporter": "python",
   "pygments_lexer": "ipython3",
   "version": "3.9.12"
  }
 },
 "nbformat": 4,
 "nbformat_minor": 5
}
